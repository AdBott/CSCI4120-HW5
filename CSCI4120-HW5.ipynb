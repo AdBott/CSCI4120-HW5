{
 "cells": [
  {
   "cell_type": "markdown",
   "metadata": {},
   "source": [
    "# Homework 5 RF Accuracy Improvement\n",
    "\n",
    "This assignment is inspired by examples of Shan-Hung Wu from National Tsing Hua University.\n",
    "\n",
    "Requirement: improve the accuracy per feature of the following code from 0.03 up to at least 0.45 and accuracy should be more than 0.92\n",
    "\n",
    "Here are three hints:\n",
    "\n",
    "    You can improve the ratio by picking out or \"creating\" several features.\n",
    "    Tune hyperparameters\n",
    "    The ratio can be improved from 0.03 up to 0.47."
   ]
  },
  {
   "cell_type": "code",
   "execution_count": 3,
   "metadata": {},
   "outputs": [
    {
     "name": "stdout",
     "output_type": "stream",
     "text": [
      "Original data shape: (569, 30)\n",
      "Selected features data shape: (569, 18)\n",
      "Starting grid search...\n",
      "Grid search completed.\n",
      "Best average accuracy: 0.9613258810743673\n",
      "Average accuracy per feature: 0.05340699339302041\n"
     ]
    }
   ],
   "source": [
    "from sklearn.model_selection import train_test_split\n",
    "from sklearn.datasets import load_breast_cancer\n",
    "from sklearn.metrics import accuracy_score\n",
    "from sklearn.ensemble import RandomForestClassifier\n",
    "\n",
    "\n",
    "# load the breast_cancer dataset\n",
    "init_data = load_breast_cancer()\n",
    "(X, y) = load_breast_cancer(return_X_y=True)\n",
    "\n",
    "# Display the shape of the dataset\n",
    "print(f\"Original data shape: {X.shape}\")\n",
    "\n",
    "# TODO Select some features (X), hint: based on the connections with\n",
    "# our Y (importance? correlation?)\n",
    "# Feature selection using RandomForest\n",
    "rf_model = RandomForestClassifier(random_state=42)\n",
    "rf_model.fit(X, y)\n",
    "\n",
    "# Apply SelectFromModel for feature selection\n",
    "sfm_selector = SelectFromModel(rf_model, threshold=0.01)\n",
    "sfm_selector.fit(X, y)\n",
    "X_selected = sfm_selector.transform(X)\n",
    "\n",
    "# Print the shape of the selected features\n",
    "print(f\"Selected features data shape: {X_selected.shape}\")\n",
    "\n",
    "# TODO need 5 fold cross validation\n",
    "# Setup for 5 KFold cross-validation\n",
    "kf_splitter = KFold(n_splits=5, shuffle=True, random_state=42)\n",
    "\n",
    "# TODO Tune parameters for RandomForestClassifier\n",
    "# Define hyperparameter grid for RandomForest\n",
    "param_grid = {\n",
    "    'n_estimators': [100, 150],  # Reduced number of estimators\n",
    "    'max_depth': [None, 30],     # Reduced max_depth range\n",
    "    'min_samples_split': [2],\n",
    "    'criterion': ['gini']\n",
    "}\n",
    "\n",
    "# Setup GridSearchCV with RandomForestClassifier\n",
    "grid_search_cv = GridSearchCV(\n",
    "    estimator=RandomForestClassifier(random_state=42),\n",
    "    param_grid=param_grid,\n",
    "    cv=kf_splitter,\n",
    "    scoring='accuracy'\n",
    ")\n",
    "\n",
    "# Begin grid search\n",
    "print(\"Starting grid search...\")\n",
    "grid_search_cv.fit(X_selected, y)\n",
    "print(\"Grid search completed.\")\n",
    "\n",
    "# TODO Calculate Average accuracy score\n",
    "# Output the average accuracy from cross-validation\n",
    "avg_accuracy = grid_search_cv.best_score_\n",
    "print(f\"average accuracy: {best_avg_accuracy}\")\n",
    "\n",
    "# TODO Calculate Average (accuracy score/number of features)\n",
    "# Calculate the average accuracy per feature\n",
    "accuracy_per_feature = best_avg_accuracy / X_selected.shape[1]\n",
    "print(f\"Average accuracy per feature: {accuracy_per_feature}\")"
   ]
  },
  {
   "cell_type": "code",
   "execution_count": null,
   "metadata": {},
   "outputs": [],
   "source": []
  },
  {
   "cell_type": "code",
   "execution_count": null,
   "metadata": {},
   "outputs": [],
   "source": []
  }
 ],
 "metadata": {
  "kernelspec": {
   "display_name": "Python 3",
   "language": "python",
   "name": "python3"
  },
  "language_info": {
   "codemirror_mode": {
    "name": "ipython",
    "version": 3
   },
   "file_extension": ".py",
   "mimetype": "text/x-python",
   "name": "python",
   "nbconvert_exporter": "python",
   "pygments_lexer": "ipython3",
   "version": "3.8.10"
  }
 },
 "nbformat": 4,
 "nbformat_minor": 2
}
